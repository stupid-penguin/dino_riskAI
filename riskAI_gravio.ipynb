{
  "nbformat": 4,
  "nbformat_minor": 0,
  "metadata": {
    "colab": {
      "provenance": [],
      "toc_visible": true
    },
    "kernelspec": {
      "name": "python3",
      "display_name": "Python 3"
    },
    "language_info": {
      "name": "python"
    }
  },
  "cells": [
    {
      "cell_type": "markdown",
      "source": [
        "# Настраиваем окружение"
      ],
      "metadata": {
        "id": "eYkcZLzVTm3a"
      }
    },
    {
      "cell_type": "code",
      "execution_count": 1,
      "metadata": {
        "id": "DmMNn65uTc9X"
      },
      "outputs": [],
      "source": [
        "pip install gradio faiss-cpu langchain_community -q"
      ]
    },
    {
      "cell_type": "markdown",
      "source": [
        "# Импортируем библиотеки"
      ],
      "metadata": {
        "id": "CjtHF2PQT9oA"
      }
    },
    {
      "cell_type": "code",
      "source": [
        "import gradio as gr\n",
        "\n",
        "from langchain_community.document_loaders import UnstructuredPDFLoader\n",
        "from langchain.text_splitter import RecursiveCharacterTextSplitter\n",
        "\n",
        "from langchain_gigachat.chat_models.gigachat import GigaChat\n",
        "from langchain_community.embeddings.gigachat import GigaChatEmbeddings\n",
        "from langchain_community.vectorstores import FAISS\n",
        "\n",
        "from langchain.memory import ConversationBufferMemory\n",
        "from langchain.chains import ConversationalRetrievalChain"
      ],
      "metadata": {
        "id": "PdaW5GuuVdzd"
      },
      "execution_count": 2,
      "outputs": []
    },
    {
      "cell_type": "markdown",
      "source": [
        "# Инициализируем модели"
      ],
      "metadata": {
        "id": "HcQG5a-zha37"
      }
    },
    {
      "cell_type": "code",
      "source": [
        "from google.colab import userdata\n",
        "giga_auth = userdata.get('token')"
      ],
      "metadata": {
        "id": "sWfgaWIOheEx"
      },
      "execution_count": 3,
      "outputs": []
    },
    {
      "cell_type": "code",
      "source": [
        "# LLM GigaChat\n",
        "giga_lite = GigaChat(model=\"GigaChat\",\n",
        "                verify_ssl_certs=False,\n",
        "                profanity_check=False,\n",
        "                credentials=giga_auth,\n",
        "                top_p=0.2,\n",
        "                timeout=600)"
      ],
      "metadata": {
        "id": "VhiC5O7qhgb1"
      },
      "execution_count": 4,
      "outputs": []
    },
    {
      "cell_type": "code",
      "source": [
        "# Эмбеддер GigaChat\n",
        "giga_embed = GigaChatEmbeddings(\n",
        "                    scope=\"GIGACHAT_API_PERS\",\n",
        "                    verify_ssl_certs=False,\n",
        "                    credentials=giga_auth)"
      ],
      "metadata": {
        "id": "RdG_x4YErDOH"
      },
      "execution_count": null,
      "outputs": []
    },
    {
      "cell_type": "markdown",
      "source": [
        "# Вспомогательные функции"
      ],
      "metadata": {
        "id": "tsrnfl66cwYT"
      }
    },
    {
      "cell_type": "code",
      "source": [
        "def create_conversational_chain(llm, vector_store):\n",
        "    memory = ConversationBufferMemory(memory_key=\"chat_history\", return_messages=True)\n",
        "    chain = ConversationalRetrievalChain.from_llm(\n",
        "        llm=llm,\n",
        "        chain_type='stuff',\n",
        "        retriever=vector_store.as_retriever(search_kwargs={\"k\": 4}),\n",
        "        memory=memory,\n",
        "        #verbose=True\n",
        "    )\n",
        "    return chain"
      ],
      "metadata": {
        "id": "Jsq22Zq1kufU"
      },
      "execution_count": 6,
      "outputs": []
    },
    {
      "cell_type": "code",
      "source": [
        "def create_vector_store(pdf_files):\n",
        "    global giga_embed\n",
        "    text = []\n",
        "\n",
        "    for pdf_file in pdf_files:\n",
        "        pdf_path = pdf_file.name  # Путь загружаемого файла\n",
        "\n",
        "        loader = UnstructuredPDFLoader(pdf_path)\n",
        "        text.extend(loader.load())\n",
        "\n",
        "    # Разделение документа на фрагменты\n",
        "    text_splitter = RecursiveCharacterTextSplitter(chunk_size=1000,\n",
        "                                              chunk_overlap=100)\n",
        "    text_chunks = text_splitter.split_documents(text)\n",
        "\n",
        "    # Генерация векторной базы данных\n",
        "    vector_store = FAISS.from_documents(text_chunks, embedding=giga_embed)\n",
        "    vector_store.save_local(\"faiss_index\")\n",
        "    return vector_store"
      ],
      "metadata": {
        "id": "hdNl4qZ1c-_N"
      },
      "execution_count": 7,
      "outputs": []
    },
    {
      "cell_type": "code",
      "source": [
        "def upload_pdf(pdf_files):\n",
        "    global vector_store, conversational_chain, giga_lite\n",
        "    vector_store = create_vector_store(pdf_files)\n",
        "    if vector_store:\n",
        "        conversational_chain = create_conversational_chain(giga_lite, vector_store)\n",
        "        return \"PDF-файл успешно загружен. Задайте мне вопрос!\"\n",
        "    else:\n",
        "        return \"Ошибка при загрузке pdf-файла. Попробуйте ещё раз.\"\n",
        ""
      ],
      "metadata": {
        "id": "-Y3Yxw-lbo5t"
      },
      "execution_count": 8,
      "outputs": []
    },
    {
      "cell_type": "code",
      "source": [
        "def ask_question(question):\n",
        "    if conversational_chain and vector_store:\n",
        "        result = conversational_chain.invoke({\"question\": question, \"chat_history\": []})\n",
        "        return result[\"answer\"]\n",
        "    else:\n",
        "        return \"Пожалуйста, для начала загрузите pdf-файл.\""
      ],
      "metadata": {
        "id": "lc3unA4hl8Te"
      },
      "execution_count": 9,
      "outputs": []
    },
    {
      "cell_type": "markdown",
      "source": [
        "# UI"
      ],
      "metadata": {
        "id": "7dHjQOnUbpDh"
      }
    },
    {
      "cell_type": "code",
      "source": [
        "# Creating the Gradio interface\n",
        "with gr.Blocks() as demo:\n",
        "    gr.Markdown(\"## chatbot dino_risk\")\n",
        "\n",
        "    with gr.Row():\n",
        "        pdf_input = gr.File(label=\"Загрузите ваш pdf-файл.\", file_count=\"multiple\", type=\"filepath\")\n",
        "        upload_button = gr.Button(\"Загрузка pdf-файла\")\n",
        "        status_output = gr.Textbox(label=\"Статус загрузки:\", interactive=False)\n",
        "\n",
        "    with gr.Row():\n",
        "        question_input = gr.Textbox(label=\"Задайте вопрос\")\n",
        "        ask_button = gr.Button(\"Спросить\")\n",
        "        answer_output = gr.Textbox(label=\"Ответ ИИ\", interactive=True)\n",
        "\n",
        "    upload_button.click(upload_pdf, inputs=[pdf_input], outputs=[status_output])\n",
        "    ask_button.click(ask_question, inputs=[question_input], outputs=[answer_output])\n"
      ],
      "metadata": {
        "id": "v1jZ9teDbuiC"
      },
      "execution_count": 10,
      "outputs": []
    },
    {
      "cell_type": "code",
      "source": [
        "demo.launch(debug=True)"
      ],
      "metadata": {
        "id": "IR3xDO8arBPv"
      },
      "execution_count": null,
      "outputs": []
    }
  ]
}
